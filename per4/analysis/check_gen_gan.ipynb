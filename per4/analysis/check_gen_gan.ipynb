{
 "cells": [
  {
   "cell_type": "code",
   "execution_count": null,
   "id": "5bd0f532",
   "metadata": {},
   "outputs": [],
   "source": [
    "def isEven(n):\n",
    "    if n == (n>>1) << 1:\n",
    "        return True\n",
    "    else: \n",
    "        return False\n",
    "\n",
    "n = 5\n",
    "if isEven(n):\n",
    "    print(\"true\")\n",
    "else: \n",
    "    print (\"false\")\n",
    "\n",
    "false"
   ]
  }
 ],
 "metadata": {
  "language_info": {
   "name": "python"
  }
 },
 "nbformat": 4,
 "nbformat_minor": 5
}
