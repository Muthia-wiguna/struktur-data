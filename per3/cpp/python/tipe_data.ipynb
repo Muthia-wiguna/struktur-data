{
 "cells": [
  {
   "cell_type": "markdown",
   "id": "43995174",
   "metadata": {},
   "source": [
    "INT"
   ]
  },
  {
   "cell_type": "code",
   "execution_count": 1,
   "id": "61938dd5",
   "metadata": {},
   "outputs": [
    {
     "name": "stdout",
     "output_type": "stream",
     "text": [
      "16\n",
      "<class 'int'>\n"
     ]
    }
   ],
   "source": [
    "a = 16\n",
    "print (a)\n",
    "print(type(a))"
   ]
  },
  {
   "cell_type": "markdown",
   "id": "12f66ca9",
   "metadata": {},
   "source": [
    "STRING "
   ]
  },
  {
   "cell_type": "code",
   "execution_count": 2,
   "id": "c9b327fd",
   "metadata": {},
   "outputs": [
    {
     "name": "stdout",
     "output_type": "stream",
     "text": [
      "hi\n",
      "<class 'str'>\n"
     ]
    }
   ],
   "source": [
    "b = \"hi\"\n",
    "print(b)\n",
    "print(type(b))"
   ]
  },
  {
   "cell_type": "markdown",
   "id": "ca38d216",
   "metadata": {},
   "source": [
    "FLOAT"
   ]
  },
  {
   "cell_type": "code",
   "execution_count": 3,
   "id": "9bfa9e8a",
   "metadata": {},
   "outputs": [
    {
     "name": "stdout",
     "output_type": "stream",
     "text": [
      "16.6\n",
      "<class 'float'>\n"
     ]
    }
   ],
   "source": [
    "c = 16.6\n",
    "print(c)\n",
    "print(type(c))"
   ]
  },
  {
   "cell_type": "markdown",
   "id": "8272cfd8",
   "metadata": {},
   "source": [
    "COMPLEX"
   ]
  },
  {
   "cell_type": "code",
   "execution_count": 4,
   "id": "145a023d",
   "metadata": {},
   "outputs": [
    {
     "name": "stdout",
     "output_type": "stream",
     "text": [
      "1j\n",
      "<class 'complex'>\n"
     ]
    }
   ],
   "source": [
    "d = 1j\n",
    "print(d)\n",
    "print(type(d))"
   ]
  },
  {
   "cell_type": "markdown",
   "id": "c41bc9a9",
   "metadata": {},
   "source": [
    "LIST"
   ]
  },
  {
   "cell_type": "code",
   "execution_count": 5,
   "id": "b24b960b",
   "metadata": {},
   "outputs": [
    {
     "name": "stdout",
     "output_type": "stream",
     "text": [
      "['a', 'b', 'c']\n",
      "<class 'list'>\n"
     ]
    }
   ],
   "source": [
    "e = [\"a\", \"b\", \"c\"]\n",
    "print(e)\n",
    "print(type(e))"
   ]
  },
  {
   "cell_type": "markdown",
   "id": "8b846d1f",
   "metadata": {},
   "source": [
    "TUPLE"
   ]
  },
  {
   "cell_type": "code",
   "execution_count": 6,
   "id": "85a8250b",
   "metadata": {},
   "outputs": [
    {
     "name": "stdout",
     "output_type": "stream",
     "text": [
      "('a', 'b', 'c')\n",
      "<class 'tuple'>\n"
     ]
    }
   ],
   "source": [
    "f = (\"a\", \"b\", \"c\")\n",
    "print(f)\n",
    "print(type(f))"
   ]
  },
  {
   "cell_type": "markdown",
   "id": "1155d72c",
   "metadata": {},
   "source": [
    "RANGE"
   ]
  },
  {
   "cell_type": "code",
   "execution_count": 9,
   "id": "a2f5c705",
   "metadata": {},
   "outputs": [
    {
     "name": "stdout",
     "output_type": "stream",
     "text": [
      "range(0, 5)\n",
      "<class 'range'>\n"
     ]
    }
   ],
   "source": [
    "g = range(5)\n",
    "print(g)\n",
    "print(type(g))"
   ]
  },
  {
   "cell_type": "markdown",
   "id": "44cb3600",
   "metadata": {},
   "source": [
    "SET"
   ]
  },
  {
   "cell_type": "code",
   "execution_count": 10,
   "id": "191e202f",
   "metadata": {},
   "outputs": [
    {
     "name": "stdout",
     "output_type": "stream",
     "text": [
      "{'Hari', 'Lion'}\n",
      "<class 'set'>\n"
     ]
    }
   ],
   "source": [
    "h = {\"Lion\", \"Hari\"}\n",
    "print(h)\n",
    "print(type(h))"
   ]
  },
  {
   "cell_type": "markdown",
   "id": "ec44998b",
   "metadata": {},
   "source": [
    "DICT"
   ]
  },
  {
   "cell_type": "code",
   "execution_count": 11,
   "id": "49fba415",
   "metadata": {},
   "outputs": [
    {
     "name": "stdout",
     "output_type": "stream",
     "text": [
      "{'nama': 'Hari'}\n",
      "<class 'dict'>\n"
     ]
    }
   ],
   "source": [
    "i = {\"nama\" : \"Hari\"}\n",
    "print(i)\n",
    "print(type(i))"
   ]
  },
  {
   "cell_type": "markdown",
   "id": "6feba881",
   "metadata": {},
   "source": [
    "FROZENSET"
   ]
  },
  {
   "cell_type": "code",
   "execution_count": 12,
   "id": "7e93f61c",
   "metadata": {},
   "outputs": [
    {
     "name": "stdout",
     "output_type": "stream",
     "text": [
      "frozenset({'gaeun', 'lion'})\n",
      "<class 'frozenset'>\n"
     ]
    }
   ],
   "source": [
    "j = frozenset({\"lion\", \"gaeun\"})\n",
    "print(j)\n",
    "print(type(j))"
   ]
  },
  {
   "cell_type": "markdown",
   "id": "dc85c495",
   "metadata": {},
   "source": [
    "BOOL"
   ]
  },
  {
   "cell_type": "code",
   "execution_count": 13,
   "id": "d8a0b08a",
   "metadata": {},
   "outputs": [
    {
     "name": "stdout",
     "output_type": "stream",
     "text": [
      "True\n",
      "<class 'bool'>\n"
     ]
    }
   ],
   "source": [
    "k =True\n",
    "print(k)\n",
    "print(type(k))"
   ]
  },
  {
   "cell_type": "markdown",
   "id": "c0b32ba9",
   "metadata": {},
   "source": [
    "BYTES"
   ]
  },
  {
   "cell_type": "code",
   "execution_count": 15,
   "id": "7031fcd9",
   "metadata": {},
   "outputs": [
    {
     "name": "stdout",
     "output_type": "stream",
     "text": [
      "b'hallo'\n",
      "<class 'bytes'>\n"
     ]
    }
   ],
   "source": [
    "i = b\"hallo\"\n",
    "print(i)\n",
    "print(type(i))"
   ]
  },
  {
   "cell_type": "markdown",
   "id": "5f842537",
   "metadata": {},
   "source": [
    "BYTE ARRAY"
   ]
  },
  {
   "cell_type": "code",
   "execution_count": 16,
   "id": "a08f4957",
   "metadata": {},
   "outputs": [
    {
     "name": "stdout",
     "output_type": "stream",
     "text": [
      "bytearray(b'\\x00\\x00\\x00\\x00\\x00')\n",
      "<class 'bytearray'>\n"
     ]
    }
   ],
   "source": [
    "m = bytearray(5)\n",
    "print(m)\n",
    "print(type(m))"
   ]
  },
  {
   "cell_type": "markdown",
   "id": "f73ce987",
   "metadata": {},
   "source": [
    "MEMORY VIEW"
   ]
  },
  {
   "cell_type": "code",
   "execution_count": 23,
   "id": "8d764741",
   "metadata": {},
   "outputs": [
    {
     "name": "stdout",
     "output_type": "stream",
     "text": [
      "<memory at 0x7fdbe0019e40>\n",
      "<class 'memoryview'>\n"
     ]
    }
   ],
   "source": [
    "n = memoryview(bytes(5))\n",
    "print(n)\n",
    "print(type(n))"
   ]
  },
  {
   "cell_type": "markdown",
   "id": "9f65575d",
   "metadata": {},
   "source": [
    "NONE"
   ]
  },
  {
   "cell_type": "code",
   "execution_count": 20,
   "id": "676387e2",
   "metadata": {},
   "outputs": [
    {
     "name": "stdout",
     "output_type": "stream",
     "text": [
      "None\n",
      "<class 'NoneType'>\n"
     ]
    }
   ],
   "source": [
    "o = None\n",
    "print(o)\n",
    "print(type(o))"
   ]
  }
 ],
 "metadata": {
  "kernelspec": {
   "display_name": "Python 3",
   "language": "python",
   "name": "python3"
  },
  "language_info": {
   "codemirror_mode": {
    "name": "ipython",
    "version": 3
   },
   "file_extension": ".py",
   "mimetype": "text/x-python",
   "name": "python",
   "nbconvert_exporter": "python",
   "pygments_lexer": "ipython3",
   "version": "3.12.3"
  }
 },
 "nbformat": 4,
 "nbformat_minor": 5
}
